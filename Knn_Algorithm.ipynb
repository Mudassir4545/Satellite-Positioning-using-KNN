{
  "cells": [
    {
      "cell_type": "markdown",
      "metadata": {
        "id": "view-in-github",
        "colab_type": "text"
      },
      "source": [
        "<a href=\"https://colab.research.google.com/github/Mudassir4545/Satellite-Positioning-using-KNN/blob/main/Knn_Algorithm.ipynb\" target=\"_parent\"><img src=\"https://colab.research.google.com/assets/colab-badge.svg\" alt=\"Open In Colab\"/></a>"
      ]
    },
    {
      "cell_type": "markdown",
      "metadata": {
        "id": "RPRgMWXZ47rZ"
      },
      "source": [
        "## Import Libraries"
      ]
    },
    {
      "cell_type": "code",
      "execution_count": 1,
      "metadata": {
        "id": "7u8SHx2H40no"
      },
      "outputs": [],
      "source": [
        "# Importing packages - Pandas, Numpy, Seaborn, Scipy\n",
        "import pandas as pd, numpy as np, matplotlib.pyplot as plt, seaborn as sns, sys\n",
        "import matplotlib.style as style; style.use('fivethirtyeight')\n",
        "from scipy.stats import zscore, norm\n",
        "from math import sqrt\n",
        "from random import seed\n",
        "from random import randrange\n",
        "from sklearn import preprocessing\n",
        "# Modelling - LR, KNN, NB, Metrics\n",
        "from sklearn.metrics import classification_report, confusion_matrix, roc_auc_score, roc_curve, accuracy_score\n",
        "from sklearn.model_selection import train_test_split, GridSearchCV, StratifiedKFold\n",
        "from sklearn.linear_model import LogisticRegression\n",
        "from sklearn.neighbors import KNeighborsClassifier\n",
        "from sklearn.naive_bayes import GaussianNB\n",
        "from sklearn.neighbors import KNeighborsRegressor\n",
        "import glob\n",
        "import csv"
      ]
    },
    {
      "cell_type": "markdown",
      "metadata": {
        "id": "nsKya7z_6vXc"
      },
      "source": [
        "## load dataset Txt file"
      ]
    },
    {
      "cell_type": "code",
      "execution_count": 2,
      "metadata": {
        "colab": {
          "base_uri": "https://localhost:8080/"
        },
        "id": "ItYJLlWl9f4v",
        "outputId": "1b07fde5-9ece-40e0-eefa-4c5a349fd83a"
      },
      "outputs": [
        {
          "output_type": "stream",
          "name": "stdout",
          "text": [
            "Mounted at /content/drive\n"
          ]
        }
      ],
      "source": [
        "from google.colab import drive\n",
        "drive.mount('/content/drive')"
      ]
    },
    {
      "cell_type": "code",
      "execution_count": 3,
      "metadata": {
        "id": "rYHxUuv_9pnu"
      },
      "outputs": [],
      "source": [
        "path = \"/content/drive/MyDrive\""
      ]
    },
    {
      "cell_type": "code",
      "execution_count": 4,
      "metadata": {
        "id": "NFidnIL96kge"
      },
      "outputs": [],
      "source": [
        "TIME = np.loadtxt(path+'/MLearning_input_TIME_1yr.txt')\n",
        "AE = np.loadtxt(path+'/MLearning_input_AE_1yr.txt')\n",
        "AL = np.loadtxt(path+'/MLearning_input_AL_1yr.txt')\n",
        "AU = np.loadtxt(path+'/MLearning_input_AU_1yr.txt')\n",
        "AP = np.loadtxt(path+'/MLearning_input_AP_1yr.txt')\n",
        "KP = np.loadtxt(path+'/MLearning_input_KP_1yr.txt')\n",
        "BX = np.loadtxt(path+'/MLearning_input_BX_1yr.txt')\n",
        "BY = np.loadtxt(path+'/MLearning_input_BY_1yr.txt')\n",
        "BZ = np.loadtxt(path+'/MLearning_input_BZ_1yr.txt')\n",
        "VX = np.loadtxt(path+'/MLearning_input_VX_1yr.txt')\n",
        "VY = np.loadtxt(path+'/MLearning_input_VY_1yr.txt')\n",
        "VZ = np.loadtxt(path+'/MLearning_input_VZ_1yr.txt')\n",
        "SYMH = np.loadtxt(path+'/MLearning_input_SYMH_1yr.txt')\n",
        "F107 = np.loadtxt(path+'/MLearning_input_F107_1yr.txt')\n",
        "#DOY = np.loadtxt(path+'/MLearning_input_DOY_1yr.txt')\n",
        "COORD = np.loadtxt(path+'/MLearning_input_COORD_1yr.txt')\n",
        "DEN =np.loadtxt(path+'/MLearning_input_DEN_1yr.txt')\n"
      ]
    },
    {
      "cell_type": "code",
      "execution_count": 5,
      "metadata": {
        "id": "gRGw2_PM7MQM"
      },
      "outputs": [],
      "source": [
        "XTIME = TIME[:,0:1] # 35\n",
        "XAP = AP[:,0:1]\n",
        "XKP = KP[:,0:1]\n",
        "XBX = BX[:,0:1]\n",
        "XBY = BY[:,0:1]\n",
        "XBZ = BZ[:,0:1]\n",
        "XVX = VX[:,0:1]\n",
        "XVY = VY[:,0:1]\n",
        "XVZ = VZ[:,0:1] \n",
        "XSYMH = SYMH[:,0:1]# 27\n",
        "XF107 = F107[:,0:1]\n",
        "#XDOY = DOY[:,0:1] # 33\n",
        "XCOORD = COORD[:,0:1] # Geog. latitude, COS (GLONG), SIN (GLONG) # 53\n",
        "XDEN= DEN\n",
        "\n",
        "\n"
      ]
    },
    {
      "cell_type": "code",
      "execution_count": 6,
      "metadata": {
        "id": "T7_bvFSMdg1t"
      },
      "outputs": [],
      "source": [
        "lst = [XTIME,XAP,XKP,XBX,XBY,XBZ,XVX,XVY,XVZ,XSYMH,XF107,XCOORD,XDEN]"
      ]
    },
    {
      "cell_type": "code",
      "execution_count": 7,
      "metadata": {
        "id": "f2KCUcai7QHb"
      },
      "outputs": [],
      "source": [
        "dataset = np.column_stack((XTIME,XAP,XKP,XBX,XBY,XBZ,XVX,XVY,XVZ,XSYMH,XF107,XCOORD,XDEN)) ## create your data with name dataset = [column1, column2, ... column57]\n",
        "# split into input (X) and output (Y) variables\n",
        "dataset = dataset[~np.isnan(dataset).any(axis=1),:]\n",
        "\n",
        "#new_data = dataset[np.logical_not(np.isnan(dataset))]"
      ]
    },
    {
      "cell_type": "code",
      "source": [
        "dataset.shape"
      ],
      "metadata": {
        "colab": {
          "base_uri": "https://localhost:8080/"
        },
        "id": "O5EnmL_nmqTg",
        "outputId": "156f03d4-5d38-4b77-d655-5359af61fbd4"
      },
      "execution_count": 8,
      "outputs": [
        {
          "output_type": "execute_result",
          "data": {
            "text/plain": [
              "(2642153, 13)"
            ]
          },
          "metadata": {},
          "execution_count": 8
        }
      ]
    },
    {
      "cell_type": "code",
      "execution_count": 9,
      "metadata": {
        "id": "tBQMeVGwQ-Lw"
      },
      "outputs": [],
      "source": [
        "df = pd.DataFrame(dataset, columns = [\"XTIME\",'XAP','XKP','XBX','XBY','XBZ','XVX','XVY','XVZ','XSYMH','XF107','XCOORD','XDEN'])"
      ]
    },
    {
      "cell_type": "code",
      "source": [
        "df.head()"
      ],
      "metadata": {
        "colab": {
          "base_uri": "https://localhost:8080/",
          "height": 206
        },
        "id": "jDZtOcjvmFUn",
        "outputId": "2b697072-dcc1-4350-c1c2-94190c620377"
      },
      "execution_count": 10,
      "outputs": [
        {
          "output_type": "execute_result",
          "data": {
            "text/plain": [
              "      XTIME       XAP       XKP       XBX       XBY       XBZ        XVX  \\\n",
              "0  0.000000  2.500000  0.500000 -2.940000  3.630000 -0.680000 -319.70000   \n",
              "1  0.002778  2.505556  0.501856 -2.941667  3.627333 -0.680667 -319.67667   \n",
              "2  0.005556  2.511111  0.503711 -2.943333  3.624667 -0.681333 -319.65333   \n",
              "3  0.008333  2.516667  0.505567 -2.945000  3.622000 -0.682000 -319.63000   \n",
              "4  0.011111  2.522222  0.507422 -2.946667  3.619333 -0.682667 -319.60667   \n",
              "\n",
              "        XVY        XVZ  XSYMH  XF107    XCOORD          XDEN  \n",
              "0 -7.700000  12.100000    0.0  171.6 -6.712439  1.053846e-12  \n",
              "1 -7.636667  12.096667    0.0  171.6 -7.350848  1.054047e-12  \n",
              "2 -7.573333  12.093333    0.0  171.6 -7.989212  1.057566e-12  \n",
              "3 -7.510000  12.090000    0.0  171.6 -8.627530  1.043966e-12  \n",
              "4 -7.446667  12.086667    0.0  171.6 -9.265799  1.048014e-12  "
            ],
            "text/html": [
              "\n",
              "  <div id=\"df-eb7901cf-29f5-468d-8eab-b2e243e81559\">\n",
              "    <div class=\"colab-df-container\">\n",
              "      <div>\n",
              "<style scoped>\n",
              "    .dataframe tbody tr th:only-of-type {\n",
              "        vertical-align: middle;\n",
              "    }\n",
              "\n",
              "    .dataframe tbody tr th {\n",
              "        vertical-align: top;\n",
              "    }\n",
              "\n",
              "    .dataframe thead th {\n",
              "        text-align: right;\n",
              "    }\n",
              "</style>\n",
              "<table border=\"1\" class=\"dataframe\">\n",
              "  <thead>\n",
              "    <tr style=\"text-align: right;\">\n",
              "      <th></th>\n",
              "      <th>XTIME</th>\n",
              "      <th>XAP</th>\n",
              "      <th>XKP</th>\n",
              "      <th>XBX</th>\n",
              "      <th>XBY</th>\n",
              "      <th>XBZ</th>\n",
              "      <th>XVX</th>\n",
              "      <th>XVY</th>\n",
              "      <th>XVZ</th>\n",
              "      <th>XSYMH</th>\n",
              "      <th>XF107</th>\n",
              "      <th>XCOORD</th>\n",
              "      <th>XDEN</th>\n",
              "    </tr>\n",
              "  </thead>\n",
              "  <tbody>\n",
              "    <tr>\n",
              "      <th>0</th>\n",
              "      <td>0.000000</td>\n",
              "      <td>2.500000</td>\n",
              "      <td>0.500000</td>\n",
              "      <td>-2.940000</td>\n",
              "      <td>3.630000</td>\n",
              "      <td>-0.680000</td>\n",
              "      <td>-319.70000</td>\n",
              "      <td>-7.700000</td>\n",
              "      <td>12.100000</td>\n",
              "      <td>0.0</td>\n",
              "      <td>171.6</td>\n",
              "      <td>-6.712439</td>\n",
              "      <td>1.053846e-12</td>\n",
              "    </tr>\n",
              "    <tr>\n",
              "      <th>1</th>\n",
              "      <td>0.002778</td>\n",
              "      <td>2.505556</td>\n",
              "      <td>0.501856</td>\n",
              "      <td>-2.941667</td>\n",
              "      <td>3.627333</td>\n",
              "      <td>-0.680667</td>\n",
              "      <td>-319.67667</td>\n",
              "      <td>-7.636667</td>\n",
              "      <td>12.096667</td>\n",
              "      <td>0.0</td>\n",
              "      <td>171.6</td>\n",
              "      <td>-7.350848</td>\n",
              "      <td>1.054047e-12</td>\n",
              "    </tr>\n",
              "    <tr>\n",
              "      <th>2</th>\n",
              "      <td>0.005556</td>\n",
              "      <td>2.511111</td>\n",
              "      <td>0.503711</td>\n",
              "      <td>-2.943333</td>\n",
              "      <td>3.624667</td>\n",
              "      <td>-0.681333</td>\n",
              "      <td>-319.65333</td>\n",
              "      <td>-7.573333</td>\n",
              "      <td>12.093333</td>\n",
              "      <td>0.0</td>\n",
              "      <td>171.6</td>\n",
              "      <td>-7.989212</td>\n",
              "      <td>1.057566e-12</td>\n",
              "    </tr>\n",
              "    <tr>\n",
              "      <th>3</th>\n",
              "      <td>0.008333</td>\n",
              "      <td>2.516667</td>\n",
              "      <td>0.505567</td>\n",
              "      <td>-2.945000</td>\n",
              "      <td>3.622000</td>\n",
              "      <td>-0.682000</td>\n",
              "      <td>-319.63000</td>\n",
              "      <td>-7.510000</td>\n",
              "      <td>12.090000</td>\n",
              "      <td>0.0</td>\n",
              "      <td>171.6</td>\n",
              "      <td>-8.627530</td>\n",
              "      <td>1.043966e-12</td>\n",
              "    </tr>\n",
              "    <tr>\n",
              "      <th>4</th>\n",
              "      <td>0.011111</td>\n",
              "      <td>2.522222</td>\n",
              "      <td>0.507422</td>\n",
              "      <td>-2.946667</td>\n",
              "      <td>3.619333</td>\n",
              "      <td>-0.682667</td>\n",
              "      <td>-319.60667</td>\n",
              "      <td>-7.446667</td>\n",
              "      <td>12.086667</td>\n",
              "      <td>0.0</td>\n",
              "      <td>171.6</td>\n",
              "      <td>-9.265799</td>\n",
              "      <td>1.048014e-12</td>\n",
              "    </tr>\n",
              "  </tbody>\n",
              "</table>\n",
              "</div>\n",
              "      <button class=\"colab-df-convert\" onclick=\"convertToInteractive('df-eb7901cf-29f5-468d-8eab-b2e243e81559')\"\n",
              "              title=\"Convert this dataframe to an interactive table.\"\n",
              "              style=\"display:none;\">\n",
              "        \n",
              "  <svg xmlns=\"http://www.w3.org/2000/svg\" height=\"24px\"viewBox=\"0 0 24 24\"\n",
              "       width=\"24px\">\n",
              "    <path d=\"M0 0h24v24H0V0z\" fill=\"none\"/>\n",
              "    <path d=\"M18.56 5.44l.94 2.06.94-2.06 2.06-.94-2.06-.94-.94-2.06-.94 2.06-2.06.94zm-11 1L8.5 8.5l.94-2.06 2.06-.94-2.06-.94L8.5 2.5l-.94 2.06-2.06.94zm10 10l.94 2.06.94-2.06 2.06-.94-2.06-.94-.94-2.06-.94 2.06-2.06.94z\"/><path d=\"M17.41 7.96l-1.37-1.37c-.4-.4-.92-.59-1.43-.59-.52 0-1.04.2-1.43.59L10.3 9.45l-7.72 7.72c-.78.78-.78 2.05 0 2.83L4 21.41c.39.39.9.59 1.41.59.51 0 1.02-.2 1.41-.59l7.78-7.78 2.81-2.81c.8-.78.8-2.07 0-2.86zM5.41 20L4 18.59l7.72-7.72 1.47 1.35L5.41 20z\"/>\n",
              "  </svg>\n",
              "      </button>\n",
              "      \n",
              "  <style>\n",
              "    .colab-df-container {\n",
              "      display:flex;\n",
              "      flex-wrap:wrap;\n",
              "      gap: 12px;\n",
              "    }\n",
              "\n",
              "    .colab-df-convert {\n",
              "      background-color: #E8F0FE;\n",
              "      border: none;\n",
              "      border-radius: 50%;\n",
              "      cursor: pointer;\n",
              "      display: none;\n",
              "      fill: #1967D2;\n",
              "      height: 32px;\n",
              "      padding: 0 0 0 0;\n",
              "      width: 32px;\n",
              "    }\n",
              "\n",
              "    .colab-df-convert:hover {\n",
              "      background-color: #E2EBFA;\n",
              "      box-shadow: 0px 1px 2px rgba(60, 64, 67, 0.3), 0px 1px 3px 1px rgba(60, 64, 67, 0.15);\n",
              "      fill: #174EA6;\n",
              "    }\n",
              "\n",
              "    [theme=dark] .colab-df-convert {\n",
              "      background-color: #3B4455;\n",
              "      fill: #D2E3FC;\n",
              "    }\n",
              "\n",
              "    [theme=dark] .colab-df-convert:hover {\n",
              "      background-color: #434B5C;\n",
              "      box-shadow: 0px 1px 3px 1px rgba(0, 0, 0, 0.15);\n",
              "      filter: drop-shadow(0px 1px 2px rgba(0, 0, 0, 0.3));\n",
              "      fill: #FFFFFF;\n",
              "    }\n",
              "  </style>\n",
              "\n",
              "      <script>\n",
              "        const buttonEl =\n",
              "          document.querySelector('#df-eb7901cf-29f5-468d-8eab-b2e243e81559 button.colab-df-convert');\n",
              "        buttonEl.style.display =\n",
              "          google.colab.kernel.accessAllowed ? 'block' : 'none';\n",
              "\n",
              "        async function convertToInteractive(key) {\n",
              "          const element = document.querySelector('#df-eb7901cf-29f5-468d-8eab-b2e243e81559');\n",
              "          const dataTable =\n",
              "            await google.colab.kernel.invokeFunction('convertToInteractive',\n",
              "                                                     [key], {});\n",
              "          if (!dataTable) return;\n",
              "\n",
              "          const docLinkHtml = 'Like what you see? Visit the ' +\n",
              "            '<a target=\"_blank\" href=https://colab.research.google.com/notebooks/data_table.ipynb>data table notebook</a>'\n",
              "            + ' to learn more about interactive tables.';\n",
              "          element.innerHTML = '';\n",
              "          dataTable['output_type'] = 'display_data';\n",
              "          await google.colab.output.renderOutput(dataTable, element);\n",
              "          const docLink = document.createElement('div');\n",
              "          docLink.innerHTML = docLinkHtml;\n",
              "          element.appendChild(docLink);\n",
              "        }\n",
              "      </script>\n",
              "    </div>\n",
              "  </div>\n",
              "  "
            ]
          },
          "metadata": {},
          "execution_count": 10
        }
      ]
    },
    {
      "cell_type": "code",
      "source": [
        "df.tail()"
      ],
      "metadata": {
        "colab": {
          "base_uri": "https://localhost:8080/",
          "height": 206
        },
        "id": "9PgB-hLJmZjv",
        "outputId": "98f8aac4-1ba7-42a0-a184-7a6fc84fe7c5"
      },
      "execution_count": 11,
      "outputs": [
        {
          "output_type": "execute_result",
          "data": {
            "text/plain": [
              "             XTIME       XAP       XKP       XBX    XBY       XBZ        XVX  \\\n",
              "2642148  23.986111  4.944444  1.314972  5.236667 -2.225  1.781667 -531.36667   \n",
              "2642149  23.988889  4.955556  1.318678  5.195333 -2.250  1.765333 -531.33333   \n",
              "2642150  23.991667  4.966667  1.322383  5.154000 -2.275  1.749000 -531.30000   \n",
              "2642151  23.994444  4.977778  1.326089  5.112667 -2.300  1.732667 -531.26667   \n",
              "2642152  23.997222  4.988889  1.329794  5.071333 -2.325  1.716333 -531.23333   \n",
              "\n",
              "           XVY        XVZ  XSYMH  XF107     XCOORD          XDEN  \n",
              "2642148 -11.85 -11.383333  -18.0  129.2  54.591505  1.443914e-12  \n",
              "2642149 -11.44 -11.546667  -18.4  129.2  53.953853  1.462110e-12  \n",
              "2642150 -11.03 -11.710000  -18.8  129.2  53.316064  1.465375e-12  \n",
              "2642151 -10.62 -11.873333  -19.2  129.2  52.678140  1.461143e-12  \n",
              "2642152 -10.21 -12.036667  -19.6  129.2  52.040085  1.465039e-12  "
            ],
            "text/html": [
              "\n",
              "  <div id=\"df-5ef7992a-a774-4365-bbb6-c24ef3baf4cd\">\n",
              "    <div class=\"colab-df-container\">\n",
              "      <div>\n",
              "<style scoped>\n",
              "    .dataframe tbody tr th:only-of-type {\n",
              "        vertical-align: middle;\n",
              "    }\n",
              "\n",
              "    .dataframe tbody tr th {\n",
              "        vertical-align: top;\n",
              "    }\n",
              "\n",
              "    .dataframe thead th {\n",
              "        text-align: right;\n",
              "    }\n",
              "</style>\n",
              "<table border=\"1\" class=\"dataframe\">\n",
              "  <thead>\n",
              "    <tr style=\"text-align: right;\">\n",
              "      <th></th>\n",
              "      <th>XTIME</th>\n",
              "      <th>XAP</th>\n",
              "      <th>XKP</th>\n",
              "      <th>XBX</th>\n",
              "      <th>XBY</th>\n",
              "      <th>XBZ</th>\n",
              "      <th>XVX</th>\n",
              "      <th>XVY</th>\n",
              "      <th>XVZ</th>\n",
              "      <th>XSYMH</th>\n",
              "      <th>XF107</th>\n",
              "      <th>XCOORD</th>\n",
              "      <th>XDEN</th>\n",
              "    </tr>\n",
              "  </thead>\n",
              "  <tbody>\n",
              "    <tr>\n",
              "      <th>2642148</th>\n",
              "      <td>23.986111</td>\n",
              "      <td>4.944444</td>\n",
              "      <td>1.314972</td>\n",
              "      <td>5.236667</td>\n",
              "      <td>-2.225</td>\n",
              "      <td>1.781667</td>\n",
              "      <td>-531.36667</td>\n",
              "      <td>-11.85</td>\n",
              "      <td>-11.383333</td>\n",
              "      <td>-18.0</td>\n",
              "      <td>129.2</td>\n",
              "      <td>54.591505</td>\n",
              "      <td>1.443914e-12</td>\n",
              "    </tr>\n",
              "    <tr>\n",
              "      <th>2642149</th>\n",
              "      <td>23.988889</td>\n",
              "      <td>4.955556</td>\n",
              "      <td>1.318678</td>\n",
              "      <td>5.195333</td>\n",
              "      <td>-2.250</td>\n",
              "      <td>1.765333</td>\n",
              "      <td>-531.33333</td>\n",
              "      <td>-11.44</td>\n",
              "      <td>-11.546667</td>\n",
              "      <td>-18.4</td>\n",
              "      <td>129.2</td>\n",
              "      <td>53.953853</td>\n",
              "      <td>1.462110e-12</td>\n",
              "    </tr>\n",
              "    <tr>\n",
              "      <th>2642150</th>\n",
              "      <td>23.991667</td>\n",
              "      <td>4.966667</td>\n",
              "      <td>1.322383</td>\n",
              "      <td>5.154000</td>\n",
              "      <td>-2.275</td>\n",
              "      <td>1.749000</td>\n",
              "      <td>-531.30000</td>\n",
              "      <td>-11.03</td>\n",
              "      <td>-11.710000</td>\n",
              "      <td>-18.8</td>\n",
              "      <td>129.2</td>\n",
              "      <td>53.316064</td>\n",
              "      <td>1.465375e-12</td>\n",
              "    </tr>\n",
              "    <tr>\n",
              "      <th>2642151</th>\n",
              "      <td>23.994444</td>\n",
              "      <td>4.977778</td>\n",
              "      <td>1.326089</td>\n",
              "      <td>5.112667</td>\n",
              "      <td>-2.300</td>\n",
              "      <td>1.732667</td>\n",
              "      <td>-531.26667</td>\n",
              "      <td>-10.62</td>\n",
              "      <td>-11.873333</td>\n",
              "      <td>-19.2</td>\n",
              "      <td>129.2</td>\n",
              "      <td>52.678140</td>\n",
              "      <td>1.461143e-12</td>\n",
              "    </tr>\n",
              "    <tr>\n",
              "      <th>2642152</th>\n",
              "      <td>23.997222</td>\n",
              "      <td>4.988889</td>\n",
              "      <td>1.329794</td>\n",
              "      <td>5.071333</td>\n",
              "      <td>-2.325</td>\n",
              "      <td>1.716333</td>\n",
              "      <td>-531.23333</td>\n",
              "      <td>-10.21</td>\n",
              "      <td>-12.036667</td>\n",
              "      <td>-19.6</td>\n",
              "      <td>129.2</td>\n",
              "      <td>52.040085</td>\n",
              "      <td>1.465039e-12</td>\n",
              "    </tr>\n",
              "  </tbody>\n",
              "</table>\n",
              "</div>\n",
              "      <button class=\"colab-df-convert\" onclick=\"convertToInteractive('df-5ef7992a-a774-4365-bbb6-c24ef3baf4cd')\"\n",
              "              title=\"Convert this dataframe to an interactive table.\"\n",
              "              style=\"display:none;\">\n",
              "        \n",
              "  <svg xmlns=\"http://www.w3.org/2000/svg\" height=\"24px\"viewBox=\"0 0 24 24\"\n",
              "       width=\"24px\">\n",
              "    <path d=\"M0 0h24v24H0V0z\" fill=\"none\"/>\n",
              "    <path d=\"M18.56 5.44l.94 2.06.94-2.06 2.06-.94-2.06-.94-.94-2.06-.94 2.06-2.06.94zm-11 1L8.5 8.5l.94-2.06 2.06-.94-2.06-.94L8.5 2.5l-.94 2.06-2.06.94zm10 10l.94 2.06.94-2.06 2.06-.94-2.06-.94-.94-2.06-.94 2.06-2.06.94z\"/><path d=\"M17.41 7.96l-1.37-1.37c-.4-.4-.92-.59-1.43-.59-.52 0-1.04.2-1.43.59L10.3 9.45l-7.72 7.72c-.78.78-.78 2.05 0 2.83L4 21.41c.39.39.9.59 1.41.59.51 0 1.02-.2 1.41-.59l7.78-7.78 2.81-2.81c.8-.78.8-2.07 0-2.86zM5.41 20L4 18.59l7.72-7.72 1.47 1.35L5.41 20z\"/>\n",
              "  </svg>\n",
              "      </button>\n",
              "      \n",
              "  <style>\n",
              "    .colab-df-container {\n",
              "      display:flex;\n",
              "      flex-wrap:wrap;\n",
              "      gap: 12px;\n",
              "    }\n",
              "\n",
              "    .colab-df-convert {\n",
              "      background-color: #E8F0FE;\n",
              "      border: none;\n",
              "      border-radius: 50%;\n",
              "      cursor: pointer;\n",
              "      display: none;\n",
              "      fill: #1967D2;\n",
              "      height: 32px;\n",
              "      padding: 0 0 0 0;\n",
              "      width: 32px;\n",
              "    }\n",
              "\n",
              "    .colab-df-convert:hover {\n",
              "      background-color: #E2EBFA;\n",
              "      box-shadow: 0px 1px 2px rgba(60, 64, 67, 0.3), 0px 1px 3px 1px rgba(60, 64, 67, 0.15);\n",
              "      fill: #174EA6;\n",
              "    }\n",
              "\n",
              "    [theme=dark] .colab-df-convert {\n",
              "      background-color: #3B4455;\n",
              "      fill: #D2E3FC;\n",
              "    }\n",
              "\n",
              "    [theme=dark] .colab-df-convert:hover {\n",
              "      background-color: #434B5C;\n",
              "      box-shadow: 0px 1px 3px 1px rgba(0, 0, 0, 0.15);\n",
              "      filter: drop-shadow(0px 1px 2px rgba(0, 0, 0, 0.3));\n",
              "      fill: #FFFFFF;\n",
              "    }\n",
              "  </style>\n",
              "\n",
              "      <script>\n",
              "        const buttonEl =\n",
              "          document.querySelector('#df-5ef7992a-a774-4365-bbb6-c24ef3baf4cd button.colab-df-convert');\n",
              "        buttonEl.style.display =\n",
              "          google.colab.kernel.accessAllowed ? 'block' : 'none';\n",
              "\n",
              "        async function convertToInteractive(key) {\n",
              "          const element = document.querySelector('#df-5ef7992a-a774-4365-bbb6-c24ef3baf4cd');\n",
              "          const dataTable =\n",
              "            await google.colab.kernel.invokeFunction('convertToInteractive',\n",
              "                                                     [key], {});\n",
              "          if (!dataTable) return;\n",
              "\n",
              "          const docLinkHtml = 'Like what you see? Visit the ' +\n",
              "            '<a target=\"_blank\" href=https://colab.research.google.com/notebooks/data_table.ipynb>data table notebook</a>'\n",
              "            + ' to learn more about interactive tables.';\n",
              "          element.innerHTML = '';\n",
              "          dataTable['output_type'] = 'display_data';\n",
              "          await google.colab.output.renderOutput(dataTable, element);\n",
              "          const docLink = document.createElement('div');\n",
              "          docLink.innerHTML = docLinkHtml;\n",
              "          element.appendChild(docLink);\n",
              "        }\n",
              "      </script>\n",
              "    </div>\n",
              "  </div>\n",
              "  "
            ]
          },
          "metadata": {},
          "execution_count": 11
        }
      ]
    },
    {
      "cell_type": "code",
      "source": [
        "df['XTIME']=df['XTIME']/df['XTIME'].max()\n",
        "df['XAP']=df['XAP']/df['XAP'].max()\n",
        "df['XKP']=df['XKP']/df['XKP'].max()\n",
        "df['XBX']=df['XBX']/df['XBX'].max()\n",
        "df['XBY']=df['XBY']/df['XBY'].max()\n",
        "df['XBZ']=df['XBZ']/df['XBZ'].max()\n",
        "df['XVX']=df['XVX']/df['XVX'].max()\n",
        "df['XVY']=df['XVY']/df['XVY'].max()\n",
        "df['XVZ']=df['XVZ']/df['XVZ'].max()\n",
        "df['XSYMH']=df['XSYMH']/df['XSYMH'].max()\n",
        "df['XF107']=df['XF107']/df['XF107'].max()\n",
        "df['XCOORD']=df['XCOORD']/df['XCOORD'].max()\n",
        "df['XDEN']=df['XDEN']/df['XDEN'].max()"
      ],
      "metadata": {
        "id": "41YcN-rB567G"
      },
      "execution_count": 12,
      "outputs": []
    },
    {
      "cell_type": "code",
      "source": [
        "df.dtypes"
      ],
      "metadata": {
        "colab": {
          "base_uri": "https://localhost:8080/"
        },
        "id": "5GsfwK-t4-Bg",
        "outputId": "a62ec61d-ba7e-4b46-9876-8c990120d631"
      },
      "execution_count": 13,
      "outputs": [
        {
          "output_type": "execute_result",
          "data": {
            "text/plain": [
              "XTIME     float64\n",
              "XAP       float64\n",
              "XKP       float64\n",
              "XBX       float64\n",
              "XBY       float64\n",
              "XBZ       float64\n",
              "XVX       float64\n",
              "XVY       float64\n",
              "XVZ       float64\n",
              "XSYMH     float64\n",
              "XF107     float64\n",
              "XCOORD    float64\n",
              "XDEN      float64\n",
              "dtype: object"
            ]
          },
          "metadata": {},
          "execution_count": 13
        }
      ]
    },
    {
      "cell_type": "code",
      "source": [
        "# Checking for missing values\n",
        "df.isnull().sum()"
      ],
      "metadata": {
        "colab": {
          "base_uri": "https://localhost:8080/"
        },
        "id": "7wPYwi6Ctc72",
        "outputId": "a9893c79-1796-4f71-9fef-0bc688c0f65c"
      },
      "execution_count": 14,
      "outputs": [
        {
          "output_type": "execute_result",
          "data": {
            "text/plain": [
              "XTIME     0\n",
              "XAP       0\n",
              "XKP       0\n",
              "XBX       0\n",
              "XBY       0\n",
              "XBZ       0\n",
              "XVX       0\n",
              "XVY       0\n",
              "XVZ       0\n",
              "XSYMH     0\n",
              "XF107     0\n",
              "XCOORD    0\n",
              "XDEN      0\n",
              "dtype: int64"
            ]
          },
          "metadata": {},
          "execution_count": 14
        }
      ]
    },
    {
      "cell_type": "code",
      "source": [
        "df.dropna().isnull().sum()"
      ],
      "metadata": {
        "colab": {
          "base_uri": "https://localhost:8080/"
        },
        "id": "Cd8DBD_Bya3W",
        "outputId": "c6a52e96-3aed-403a-deb9-8d8cf82170ca"
      },
      "execution_count": 15,
      "outputs": [
        {
          "output_type": "execute_result",
          "data": {
            "text/plain": [
              "XTIME     0\n",
              "XAP       0\n",
              "XKP       0\n",
              "XBX       0\n",
              "XBY       0\n",
              "XBZ       0\n",
              "XVX       0\n",
              "XVY       0\n",
              "XVZ       0\n",
              "XSYMH     0\n",
              "XF107     0\n",
              "XCOORD    0\n",
              "XDEN      0\n",
              "dtype: int64"
            ]
          },
          "metadata": {},
          "execution_count": 15
        }
      ]
    },
    {
      "cell_type": "code",
      "source": [
        "df.corr().style.background_gradient(cmap='coolwarm')"
      ],
      "metadata": {
        "colab": {
          "base_uri": "https://localhost:8080/",
          "height": 457
        },
        "id": "1dwsXfA0tzkd",
        "outputId": "1c4a6d23-fe0e-4946-e3cc-a96298ecbdca"
      },
      "execution_count": 16,
      "outputs": [
        {
          "output_type": "execute_result",
          "data": {
            "text/plain": [
              "<pandas.io.formats.style.Styler at 0x7faa2660dde0>"
            ],
            "text/html": [
              "<style type=\"text/css\">\n",
              "#T_b7ae5_row0_col0, #T_b7ae5_row1_col1, #T_b7ae5_row2_col2, #T_b7ae5_row3_col3, #T_b7ae5_row4_col4, #T_b7ae5_row5_col5, #T_b7ae5_row6_col6, #T_b7ae5_row7_col7, #T_b7ae5_row8_col8, #T_b7ae5_row9_col9, #T_b7ae5_row10_col10, #T_b7ae5_row11_col11, #T_b7ae5_row12_col12 {\n",
              "  background-color: #b40426;\n",
              "  color: #f1f1f1;\n",
              "}\n",
              "#T_b7ae5_row0_col1, #T_b7ae5_row2_col3 {\n",
              "  background-color: #98b9ff;\n",
              "  color: #000000;\n",
              "}\n",
              "#T_b7ae5_row0_col2 {\n",
              "  background-color: #9abbff;\n",
              "  color: #000000;\n",
              "}\n",
              "#T_b7ae5_row0_col3, #T_b7ae5_row4_col2 {\n",
              "  background-color: #a5c3fe;\n",
              "  color: #000000;\n",
              "}\n",
              "#T_b7ae5_row0_col4, #T_b7ae5_row3_col6, #T_b7ae5_row11_col9 {\n",
              "  background-color: #9ebeff;\n",
              "  color: #000000;\n",
              "}\n",
              "#T_b7ae5_row0_col5, #T_b7ae5_row0_col6 {\n",
              "  background-color: #7b9ff9;\n",
              "  color: #f1f1f1;\n",
              "}\n",
              "#T_b7ae5_row0_col7 {\n",
              "  background-color: #5470de;\n",
              "  color: #f1f1f1;\n",
              "}\n",
              "#T_b7ae5_row0_col8, #T_b7ae5_row1_col5, #T_b7ae5_row5_col0 {\n",
              "  background-color: #4358cb;\n",
              "  color: #f1f1f1;\n",
              "}\n",
              "#T_b7ae5_row0_col9 {\n",
              "  background-color: #a7c5fe;\n",
              "  color: #000000;\n",
              "}\n",
              "#T_b7ae5_row0_col10, #T_b7ae5_row5_col12, #T_b7ae5_row8_col5, #T_b7ae5_row12_col7, #T_b7ae5_row12_col9 {\n",
              "  background-color: #6c8ff1;\n",
              "  color: #f1f1f1;\n",
              "}\n",
              "#T_b7ae5_row0_col11, #T_b7ae5_row1_col11, #T_b7ae5_row3_col0, #T_b7ae5_row3_col11, #T_b7ae5_row5_col11, #T_b7ae5_row6_col11, #T_b7ae5_row7_col11, #T_b7ae5_row8_col11, #T_b7ae5_row9_col11 {\n",
              "  background-color: #455cce;\n",
              "  color: #f1f1f1;\n",
              "}\n",
              "#T_b7ae5_row0_col12, #T_b7ae5_row11_col10 {\n",
              "  background-color: #6e90f2;\n",
              "  color: #f1f1f1;\n",
              "}\n",
              "#T_b7ae5_row1_col0, #T_b7ae5_row1_col8, #T_b7ae5_row2_col0, #T_b7ae5_row2_col5, #T_b7ae5_row2_col9, #T_b7ae5_row3_col4, #T_b7ae5_row3_col10, #T_b7ae5_row4_col3, #T_b7ae5_row4_col7, #T_b7ae5_row4_col8, #T_b7ae5_row5_col8, #T_b7ae5_row9_col1, #T_b7ae5_row9_col2, #T_b7ae5_row9_col6, #T_b7ae5_row9_col12, #T_b7ae5_row12_col11 {\n",
              "  background-color: #3b4cc0;\n",
              "  color: #f1f1f1;\n",
              "}\n",
              "#T_b7ae5_row1_col2, #T_b7ae5_row2_col1 {\n",
              "  background-color: #d0473d;\n",
              "  color: #f1f1f1;\n",
              "}\n",
              "#T_b7ae5_row1_col3, #T_b7ae5_row11_col2, #T_b7ae5_row11_col3 {\n",
              "  background-color: #9fbfff;\n",
              "  color: #000000;\n",
              "}\n",
              "#T_b7ae5_row1_col4, #T_b7ae5_row2_col4, #T_b7ae5_row8_col3, #T_b7ae5_row12_col4 {\n",
              "  background-color: #a6c4fe;\n",
              "  color: #000000;\n",
              "}\n",
              "#T_b7ae5_row1_col6 {\n",
              "  background-color: #e1dad6;\n",
              "  color: #000000;\n",
              "}\n",
              "#T_b7ae5_row1_col7, #T_b7ae5_row3_col12, #T_b7ae5_row7_col10 {\n",
              "  background-color: #7093f3;\n",
              "  color: #f1f1f1;\n",
              "}\n",
              "#T_b7ae5_row1_col9, #T_b7ae5_row7_col8, #T_b7ae5_row8_col0 {\n",
              "  background-color: #3c4ec2;\n",
              "  color: #f1f1f1;\n",
              "}\n",
              "#T_b7ae5_row1_col10 {\n",
              "  background-color: #88abfd;\n",
              "  color: #000000;\n",
              "}\n",
              "#T_b7ae5_row1_col12, #T_b7ae5_row3_col5 {\n",
              "  background-color: #a9c6fd;\n",
              "  color: #000000;\n",
              "}\n",
              "#T_b7ae5_row2_col6 {\n",
              "  background-color: #ecd3c5;\n",
              "  color: #000000;\n",
              "}\n",
              "#T_b7ae5_row2_col7, #T_b7ae5_row7_col5, #T_b7ae5_row8_col10 {\n",
              "  background-color: #80a3fa;\n",
              "  color: #f1f1f1;\n",
              "}\n",
              "#T_b7ae5_row2_col8, #T_b7ae5_row4_col0, #T_b7ae5_row7_col0 {\n",
              "  background-color: #3d50c3;\n",
              "  color: #f1f1f1;\n",
              "}\n",
              "#T_b7ae5_row2_col10, #T_b7ae5_row3_col2, #T_b7ae5_row8_col2, #T_b7ae5_row8_col4 {\n",
              "  background-color: #96b7ff;\n",
              "  color: #000000;\n",
              "}\n",
              "#T_b7ae5_row2_col11, #T_b7ae5_row4_col11, #T_b7ae5_row10_col11, #T_b7ae5_row11_col8 {\n",
              "  background-color: #465ecf;\n",
              "  color: #f1f1f1;\n",
              "}\n",
              "#T_b7ae5_row2_col12 {\n",
              "  background-color: #b5cdfa;\n",
              "  color: #000000;\n",
              "}\n",
              "#T_b7ae5_row3_col1 {\n",
              "  background-color: #9bbcff;\n",
              "  color: #000000;\n",
              "}\n",
              "#T_b7ae5_row3_col7, #T_b7ae5_row8_col6 {\n",
              "  background-color: #7396f5;\n",
              "  color: #f1f1f1;\n",
              "}\n",
              "#T_b7ae5_row3_col8 {\n",
              "  background-color: #4e68d8;\n",
              "  color: #f1f1f1;\n",
              "}\n",
              "#T_b7ae5_row3_col9, #T_b7ae5_row7_col1 {\n",
              "  background-color: #b1cbfc;\n",
              "  color: #000000;\n",
              "}\n",
              "#T_b7ae5_row4_col1, #T_b7ae5_row10_col6 {\n",
              "  background-color: #a2c1ff;\n",
              "  color: #000000;\n",
              "}\n",
              "#T_b7ae5_row4_col5, #T_b7ae5_row11_col12 {\n",
              "  background-color: #6485ec;\n",
              "  color: #f1f1f1;\n",
              "}\n",
              "#T_b7ae5_row4_col6 {\n",
              "  background-color: #6b8df0;\n",
              "  color: #f1f1f1;\n",
              "}\n",
              "#T_b7ae5_row4_col9 {\n",
              "  background-color: #82a6fb;\n",
              "  color: #f1f1f1;\n",
              "}\n",
              "#T_b7ae5_row4_col10, #T_b7ae5_row8_col9, #T_b7ae5_row11_col1 {\n",
              "  background-color: #9dbdff;\n",
              "  color: #000000;\n",
              "}\n",
              "#T_b7ae5_row4_col12, #T_b7ae5_row12_col5 {\n",
              "  background-color: #7699f6;\n",
              "  color: #f1f1f1;\n",
              "}\n",
              "#T_b7ae5_row5_col1 {\n",
              "  background-color: #6a8bef;\n",
              "  color: #f1f1f1;\n",
              "}\n",
              "#T_b7ae5_row5_col2 {\n",
              "  background-color: #6384eb;\n",
              "  color: #f1f1f1;\n",
              "}\n",
              "#T_b7ae5_row5_col3 {\n",
              "  background-color: #c7d7f0;\n",
              "  color: #000000;\n",
              "}\n",
              "#T_b7ae5_row5_col4 {\n",
              "  background-color: #8fb1fe;\n",
              "  color: #000000;\n",
              "}\n",
              "#T_b7ae5_row5_col6, #T_b7ae5_row7_col9 {\n",
              "  background-color: #8caffe;\n",
              "  color: #000000;\n",
              "}\n",
              "#T_b7ae5_row5_col7 {\n",
              "  background-color: #5e7de7;\n",
              "  color: #f1f1f1;\n",
              "}\n",
              "#T_b7ae5_row5_col9, #T_b7ae5_row12_col2 {\n",
              "  background-color: #d4dbe6;\n",
              "  color: #000000;\n",
              "}\n",
              "#T_b7ae5_row5_col10 {\n",
              "  background-color: #688aef;\n",
              "  color: #f1f1f1;\n",
              "}\n",
              "#T_b7ae5_row6_col0, #T_b7ae5_row9_col7 {\n",
              "  background-color: #4257c9;\n",
              "  color: #f1f1f1;\n",
              "}\n",
              "#T_b7ae5_row6_col1 {\n",
              "  background-color: #eed0c0;\n",
              "  color: #000000;\n",
              "}\n",
              "#T_b7ae5_row6_col2 {\n",
              "  background-color: #f4c6af;\n",
              "  color: #000000;\n",
              "}\n",
              "#T_b7ae5_row6_col3 {\n",
              "  background-color: #bed2f6;\n",
              "  color: #000000;\n",
              "}\n",
              "#T_b7ae5_row6_col4, #T_b7ae5_row8_col1 {\n",
              "  background-color: #93b5fe;\n",
              "  color: #000000;\n",
              "}\n",
              "#T_b7ae5_row6_col5 {\n",
              "  background-color: #89acfd;\n",
              "  color: #000000;\n",
              "}\n",
              "#T_b7ae5_row6_col7, #T_b7ae5_row9_col3 {\n",
              "  background-color: #b3cdfb;\n",
              "  color: #000000;\n",
              "}\n",
              "#T_b7ae5_row6_col8, #T_b7ae5_row10_col0, #T_b7ae5_row12_col0 {\n",
              "  background-color: #3f53c6;\n",
              "  color: #f1f1f1;\n",
              "}\n",
              "#T_b7ae5_row6_col9 {\n",
              "  background-color: #6282ea;\n",
              "  color: #f1f1f1;\n",
              "}\n",
              "#T_b7ae5_row6_col10 {\n",
              "  background-color: #97b8ff;\n",
              "  color: #000000;\n",
              "}\n",
              "#T_b7ae5_row6_col12 {\n",
              "  background-color: #c1d4f4;\n",
              "  color: #000000;\n",
              "}\n",
              "#T_b7ae5_row7_col2, #T_b7ae5_row9_col5 {\n",
              "  background-color: #bcd2f7;\n",
              "  color: #000000;\n",
              "}\n",
              "#T_b7ae5_row7_col3 {\n",
              "  background-color: #b6cefa;\n",
              "  color: #000000;\n",
              "}\n",
              "#T_b7ae5_row7_col4 {\n",
              "  background-color: #86a9fc;\n",
              "  color: #f1f1f1;\n",
              "}\n",
              "#T_b7ae5_row7_col6, #T_b7ae5_row12_col1 {\n",
              "  background-color: #cbd8ee;\n",
              "  color: #000000;\n",
              "}\n",
              "#T_b7ae5_row7_col12, #T_b7ae5_row9_col4, #T_b7ae5_row10_col9 {\n",
              "  background-color: #84a7fc;\n",
              "  color: #f1f1f1;\n",
              "}\n",
              "#T_b7ae5_row8_col7, #T_b7ae5_row12_col8 {\n",
              "  background-color: #4c66d6;\n",
              "  color: #f1f1f1;\n",
              "}\n",
              "#T_b7ae5_row8_col12, #T_b7ae5_row10_col5 {\n",
              "  background-color: #7597f6;\n",
              "  color: #f1f1f1;\n",
              "}\n",
              "#T_b7ae5_row9_col0 {\n",
              "  background-color: #4b64d5;\n",
              "  color: #f1f1f1;\n",
              "}\n",
              "#T_b7ae5_row9_col8 {\n",
              "  background-color: #445acc;\n",
              "  color: #f1f1f1;\n",
              "}\n",
              "#T_b7ae5_row9_col10 {\n",
              "  background-color: #506bda;\n",
              "  color: #f1f1f1;\n",
              "}\n",
              "#T_b7ae5_row10_col1 {\n",
              "  background-color: #b2ccfb;\n",
              "  color: #000000;\n",
              "}\n",
              "#T_b7ae5_row10_col2 {\n",
              "  background-color: #bfd3f6;\n",
              "  color: #000000;\n",
              "}\n",
              "#T_b7ae5_row10_col3 {\n",
              "  background-color: #7295f4;\n",
              "  color: #f1f1f1;\n",
              "}\n",
              "#T_b7ae5_row10_col4 {\n",
              "  background-color: #c5d6f2;\n",
              "  color: #000000;\n",
              "}\n",
              "#T_b7ae5_row10_col7 {\n",
              "  background-color: #5a78e4;\n",
              "  color: #f1f1f1;\n",
              "}\n",
              "#T_b7ae5_row10_col8 {\n",
              "  background-color: #5977e3;\n",
              "  color: #f1f1f1;\n",
              "}\n",
              "#T_b7ae5_row10_col12 {\n",
              "  background-color: #d6dce4;\n",
              "  color: #000000;\n",
              "}\n",
              "#T_b7ae5_row11_col0 {\n",
              "  background-color: #4055c8;\n",
              "  color: #f1f1f1;\n",
              "}\n",
              "#T_b7ae5_row11_col4, #T_b7ae5_row12_col3 {\n",
              "  background-color: #a1c0ff;\n",
              "  color: #000000;\n",
              "}\n",
              "#T_b7ae5_row11_col5 {\n",
              "  background-color: #799cf8;\n",
              "  color: #f1f1f1;\n",
              "}\n",
              "#T_b7ae5_row11_col6 {\n",
              "  background-color: #7a9df8;\n",
              "  color: #f1f1f1;\n",
              "}\n",
              "#T_b7ae5_row11_col7 {\n",
              "  background-color: #5673e0;\n",
              "  color: #f1f1f1;\n",
              "}\n",
              "#T_b7ae5_row12_col6 {\n",
              "  background-color: #c9d7f0;\n",
              "  color: #000000;\n",
              "}\n",
              "#T_b7ae5_row12_col10 {\n",
              "  background-color: #d5dbe5;\n",
              "  color: #000000;\n",
              "}\n",
              "</style>\n",
              "<table id=\"T_b7ae5\" class=\"dataframe\">\n",
              "  <thead>\n",
              "    <tr>\n",
              "      <th class=\"blank level0\" >&nbsp;</th>\n",
              "      <th id=\"T_b7ae5_level0_col0\" class=\"col_heading level0 col0\" >XTIME</th>\n",
              "      <th id=\"T_b7ae5_level0_col1\" class=\"col_heading level0 col1\" >XAP</th>\n",
              "      <th id=\"T_b7ae5_level0_col2\" class=\"col_heading level0 col2\" >XKP</th>\n",
              "      <th id=\"T_b7ae5_level0_col3\" class=\"col_heading level0 col3\" >XBX</th>\n",
              "      <th id=\"T_b7ae5_level0_col4\" class=\"col_heading level0 col4\" >XBY</th>\n",
              "      <th id=\"T_b7ae5_level0_col5\" class=\"col_heading level0 col5\" >XBZ</th>\n",
              "      <th id=\"T_b7ae5_level0_col6\" class=\"col_heading level0 col6\" >XVX</th>\n",
              "      <th id=\"T_b7ae5_level0_col7\" class=\"col_heading level0 col7\" >XVY</th>\n",
              "      <th id=\"T_b7ae5_level0_col8\" class=\"col_heading level0 col8\" >XVZ</th>\n",
              "      <th id=\"T_b7ae5_level0_col9\" class=\"col_heading level0 col9\" >XSYMH</th>\n",
              "      <th id=\"T_b7ae5_level0_col10\" class=\"col_heading level0 col10\" >XF107</th>\n",
              "      <th id=\"T_b7ae5_level0_col11\" class=\"col_heading level0 col11\" >XCOORD</th>\n",
              "      <th id=\"T_b7ae5_level0_col12\" class=\"col_heading level0 col12\" >XDEN</th>\n",
              "    </tr>\n",
              "  </thead>\n",
              "  <tbody>\n",
              "    <tr>\n",
              "      <th id=\"T_b7ae5_level0_row0\" class=\"row_heading level0 row0\" >XTIME</th>\n",
              "      <td id=\"T_b7ae5_row0_col0\" class=\"data row0 col0\" >1.000000</td>\n",
              "      <td id=\"T_b7ae5_row0_col1\" class=\"data row0 col1\" >-0.018045</td>\n",
              "      <td id=\"T_b7ae5_row0_col2\" class=\"data row0 col2\" >-0.019917</td>\n",
              "      <td id=\"T_b7ae5_row0_col3\" class=\"data row0 col3\" >0.019374</td>\n",
              "      <td id=\"T_b7ae5_row0_col4\" class=\"data row0 col4\" >-0.010171</td>\n",
              "      <td id=\"T_b7ae5_row0_col5\" class=\"data row0 col5\" >0.010352</td>\n",
              "      <td id=\"T_b7ae5_row0_col6\" class=\"data row0 col6\" >0.004226</td>\n",
              "      <td id=\"T_b7ae5_row0_col7\" class=\"data row0 col7\" >-0.011725</td>\n",
              "      <td id=\"T_b7ae5_row0_col8\" class=\"data row0 col8\" >-0.015105</td>\n",
              "      <td id=\"T_b7ae5_row0_col9\" class=\"data row0 col9\" >0.038979</td>\n",
              "      <td id=\"T_b7ae5_row0_col10\" class=\"data row0 col10\" >-0.001436</td>\n",
              "      <td id=\"T_b7ae5_row0_col11\" class=\"data row0 col11\" >0.000190</td>\n",
              "      <td id=\"T_b7ae5_row0_col12\" class=\"data row0 col12\" >-0.003106</td>\n",
              "    </tr>\n",
              "    <tr>\n",
              "      <th id=\"T_b7ae5_level0_row1\" class=\"row_heading level0 row1\" >XAP</th>\n",
              "      <td id=\"T_b7ae5_row1_col0\" class=\"data row1 col0\" >-0.018045</td>\n",
              "      <td id=\"T_b7ae5_row1_col1\" class=\"data row1 col1\" >1.000000</td>\n",
              "      <td id=\"T_b7ae5_row1_col2\" class=\"data row1 col2\" >0.887475</td>\n",
              "      <td id=\"T_b7ae5_row1_col3\" class=\"data row1 col3\" >-0.004871</td>\n",
              "      <td id=\"T_b7ae5_row1_col4\" class=\"data row1 col4\" >0.022593</td>\n",
              "      <td id=\"T_b7ae5_row1_col5\" class=\"data row1 col5\" >-0.202889</td>\n",
              "      <td id=\"T_b7ae5_row1_col6\" class=\"data row1 col6\" >0.396575</td>\n",
              "      <td id=\"T_b7ae5_row1_col7\" class=\"data row1 col7\" >0.082128</td>\n",
              "      <td id=\"T_b7ae5_row1_col8\" class=\"data row1 col8\" >-0.039848</td>\n",
              "      <td id=\"T_b7ae5_row1_col9\" class=\"data row1 col9\" >-0.418114</td>\n",
              "      <td id=\"T_b7ae5_row1_col10\" class=\"data row1 col10\" >0.088056</td>\n",
              "      <td id=\"T_b7ae5_row1_col11\" class=\"data row1 col11\" >0.000865</td>\n",
              "      <td id=\"T_b7ae5_row1_col12\" class=\"data row1 col12\" >0.197902</td>\n",
              "    </tr>\n",
              "    <tr>\n",
              "      <th id=\"T_b7ae5_level0_row2\" class=\"row_heading level0 row2\" >XKP</th>\n",
              "      <td id=\"T_b7ae5_row2_col0\" class=\"data row2 col0\" >-0.019917</td>\n",
              "      <td id=\"T_b7ae5_row2_col1\" class=\"data row2 col1\" >0.887475</td>\n",
              "      <td id=\"T_b7ae5_row2_col2\" class=\"data row2 col2\" >1.000000</td>\n",
              "      <td id=\"T_b7ae5_row2_col3\" class=\"data row2 col3\" >-0.034378</td>\n",
              "      <td id=\"T_b7ae5_row2_col4\" class=\"data row2 col4\" >0.024932</td>\n",
              "      <td id=\"T_b7ae5_row2_col5\" class=\"data row2 col5\" >-0.238693</td>\n",
              "      <td id=\"T_b7ae5_row2_col6\" class=\"data row2 col6\" >0.456693</td>\n",
              "      <td id=\"T_b7ae5_row2_col7\" class=\"data row2 col7\" >0.128727</td>\n",
              "      <td id=\"T_b7ae5_row2_col8\" class=\"data row2 col8\" >-0.033459</td>\n",
              "      <td id=\"T_b7ae5_row2_col9\" class=\"data row2 col9\" >-0.428059</td>\n",
              "      <td id=\"T_b7ae5_row2_col10\" class=\"data row2 col10\" >0.136231</td>\n",
              "      <td id=\"T_b7ae5_row2_col11\" class=\"data row2 col11\" >0.001767</td>\n",
              "      <td id=\"T_b7ae5_row2_col12\" class=\"data row2 col12\" >0.239452</td>\n",
              "    </tr>\n",
              "    <tr>\n",
              "      <th id=\"T_b7ae5_level0_row3\" class=\"row_heading level0 row3\" >XBX</th>\n",
              "      <td id=\"T_b7ae5_row3_col0\" class=\"data row3 col0\" >0.019374</td>\n",
              "      <td id=\"T_b7ae5_row3_col1\" class=\"data row3 col1\" >-0.004871</td>\n",
              "      <td id=\"T_b7ae5_row3_col2\" class=\"data row3 col2\" >-0.034378</td>\n",
              "      <td id=\"T_b7ae5_row3_col3\" class=\"data row3 col3\" >1.000000</td>\n",
              "      <td id=\"T_b7ae5_row3_col4\" class=\"data row3 col4\" >-0.439562</td>\n",
              "      <td id=\"T_b7ae5_row3_col5\" class=\"data row3 col5\" >0.170707</td>\n",
              "      <td id=\"T_b7ae5_row3_col6\" class=\"data row3 col6\" >0.125853</td>\n",
              "      <td id=\"T_b7ae5_row3_col7\" class=\"data row3 col7\" >0.092162</td>\n",
              "      <td id=\"T_b7ae5_row3_col8\" class=\"data row3 col8\" >0.023782</td>\n",
              "      <td id=\"T_b7ae5_row3_col9\" class=\"data row3 col9\" >0.079272</td>\n",
              "      <td id=\"T_b7ae5_row3_col10\" class=\"data row3 col10\" >-0.191630</td>\n",
              "      <td id=\"T_b7ae5_row3_col11\" class=\"data row3 col11\" >-0.002524</td>\n",
              "      <td id=\"T_b7ae5_row3_col12\" class=\"data row3 col12\" >0.004085</td>\n",
              "    </tr>\n",
              "    <tr>\n",
              "      <th id=\"T_b7ae5_level0_row4\" class=\"row_heading level0 row4\" >XBY</th>\n",
              "      <td id=\"T_b7ae5_row4_col0\" class=\"data row4 col0\" >-0.010171</td>\n",
              "      <td id=\"T_b7ae5_row4_col1\" class=\"data row4 col1\" >0.022593</td>\n",
              "      <td id=\"T_b7ae5_row4_col2\" class=\"data row4 col2\" >0.024932</td>\n",
              "      <td id=\"T_b7ae5_row4_col3\" class=\"data row4 col3\" >-0.439562</td>\n",
              "      <td id=\"T_b7ae5_row4_col4\" class=\"data row4 col4\" >1.000000</td>\n",
              "      <td id=\"T_b7ae5_row4_col5\" class=\"data row4 col5\" >-0.069848</td>\n",
              "      <td id=\"T_b7ae5_row4_col6\" class=\"data row4 col6\" >-0.055866</td>\n",
              "      <td id=\"T_b7ae5_row4_col7\" class=\"data row4 col7\" >-0.104343</td>\n",
              "      <td id=\"T_b7ae5_row4_col8\" class=\"data row4 col8\" >-0.043834</td>\n",
              "      <td id=\"T_b7ae5_row4_col9\" class=\"data row4 col9\" >-0.115144</td>\n",
              "      <td id=\"T_b7ae5_row4_col10\" class=\"data row4 col10\" >0.159644</td>\n",
              "      <td id=\"T_b7ae5_row4_col11\" class=\"data row4 col11\" >0.002405</td>\n",
              "      <td id=\"T_b7ae5_row4_col12\" class=\"data row4 col12\" >0.022063</td>\n",
              "    </tr>\n",
              "    <tr>\n",
              "      <th id=\"T_b7ae5_level0_row5\" class=\"row_heading level0 row5\" >XBZ</th>\n",
              "      <td id=\"T_b7ae5_row5_col0\" class=\"data row5 col0\" >0.010352</td>\n",
              "      <td id=\"T_b7ae5_row5_col1\" class=\"data row5 col1\" >-0.202889</td>\n",
              "      <td id=\"T_b7ae5_row5_col2\" class=\"data row5 col2\" >-0.238693</td>\n",
              "      <td id=\"T_b7ae5_row5_col3\" class=\"data row5 col3\" >0.170707</td>\n",
              "      <td id=\"T_b7ae5_row5_col4\" class=\"data row5 col4\" >-0.069848</td>\n",
              "      <td id=\"T_b7ae5_row5_col5\" class=\"data row5 col5\" >1.000000</td>\n",
              "      <td id=\"T_b7ae5_row5_col6\" class=\"data row5 col6\" >0.058866</td>\n",
              "      <td id=\"T_b7ae5_row5_col7\" class=\"data row5 col7\" >0.023061</td>\n",
              "      <td id=\"T_b7ae5_row5_col8\" class=\"data row5 col8\" >-0.042934</td>\n",
              "      <td id=\"T_b7ae5_row5_col9\" class=\"data row5 col9\" >0.240893</td>\n",
              "      <td id=\"T_b7ae5_row5_col10\" class=\"data row5 col10\" >-0.015366</td>\n",
              "      <td id=\"T_b7ae5_row5_col11\" class=\"data row5 col11\" >0.001040</td>\n",
              "      <td id=\"T_b7ae5_row5_col12\" class=\"data row5 col12\" >-0.010781</td>\n",
              "    </tr>\n",
              "    <tr>\n",
              "      <th id=\"T_b7ae5_level0_row6\" class=\"row_heading level0 row6\" >XVX</th>\n",
              "      <td id=\"T_b7ae5_row6_col0\" class=\"data row6 col0\" >0.004226</td>\n",
              "      <td id=\"T_b7ae5_row6_col1\" class=\"data row6 col1\" >0.396575</td>\n",
              "      <td id=\"T_b7ae5_row6_col2\" class=\"data row6 col2\" >0.456693</td>\n",
              "      <td id=\"T_b7ae5_row6_col3\" class=\"data row6 col3\" >0.125853</td>\n",
              "      <td id=\"T_b7ae5_row6_col4\" class=\"data row6 col4\" >-0.055866</td>\n",
              "      <td id=\"T_b7ae5_row6_col5\" class=\"data row6 col5\" >0.058866</td>\n",
              "      <td id=\"T_b7ae5_row6_col6\" class=\"data row6 col6\" >1.000000</td>\n",
              "      <td id=\"T_b7ae5_row6_col7\" class=\"data row6 col7\" >0.296560</td>\n",
              "      <td id=\"T_b7ae5_row6_col8\" class=\"data row6 col8\" >-0.024418</td>\n",
              "      <td id=\"T_b7ae5_row6_col9\" class=\"data row6 col9\" >-0.248624</td>\n",
              "      <td id=\"T_b7ae5_row6_col10\" class=\"data row6 col10\" >0.140654</td>\n",
              "      <td id=\"T_b7ae5_row6_col11\" class=\"data row6 col11\" >-0.000906</td>\n",
              "      <td id=\"T_b7ae5_row6_col12\" class=\"data row6 col12\" >0.286016</td>\n",
              "    </tr>\n",
              "    <tr>\n",
              "      <th id=\"T_b7ae5_level0_row7\" class=\"row_heading level0 row7\" >XVY</th>\n",
              "      <td id=\"T_b7ae5_row7_col0\" class=\"data row7 col0\" >-0.011725</td>\n",
              "      <td id=\"T_b7ae5_row7_col1\" class=\"data row7 col1\" >0.082128</td>\n",
              "      <td id=\"T_b7ae5_row7_col2\" class=\"data row7 col2\" >0.128727</td>\n",
              "      <td id=\"T_b7ae5_row7_col3\" class=\"data row7 col3\" >0.092162</td>\n",
              "      <td id=\"T_b7ae5_row7_col4\" class=\"data row7 col4\" >-0.104343</td>\n",
              "      <td id=\"T_b7ae5_row7_col5\" class=\"data row7 col5\" >0.023061</td>\n",
              "      <td id=\"T_b7ae5_row7_col6\" class=\"data row7 col6\" >0.296560</td>\n",
              "      <td id=\"T_b7ae5_row7_col7\" class=\"data row7 col7\" >1.000000</td>\n",
              "      <td id=\"T_b7ae5_row7_col8\" class=\"data row7 col8\" >-0.036980</td>\n",
              "      <td id=\"T_b7ae5_row7_col9\" class=\"data row7 col9\" >-0.076450</td>\n",
              "      <td id=\"T_b7ae5_row7_col10\" class=\"data row7 col10\" >0.009283</td>\n",
              "      <td id=\"T_b7ae5_row7_col11\" class=\"data row7 col11\" >-0.001822</td>\n",
              "      <td id=\"T_b7ae5_row7_col12\" class=\"data row7 col12\" >0.071535</td>\n",
              "    </tr>\n",
              "    <tr>\n",
              "      <th id=\"T_b7ae5_level0_row8\" class=\"row_heading level0 row8\" >XVZ</th>\n",
              "      <td id=\"T_b7ae5_row8_col0\" class=\"data row8 col0\" >-0.015105</td>\n",
              "      <td id=\"T_b7ae5_row8_col1\" class=\"data row8 col1\" >-0.039848</td>\n",
              "      <td id=\"T_b7ae5_row8_col2\" class=\"data row8 col2\" >-0.033459</td>\n",
              "      <td id=\"T_b7ae5_row8_col3\" class=\"data row8 col3\" >0.023782</td>\n",
              "      <td id=\"T_b7ae5_row8_col4\" class=\"data row8 col4\" >-0.043834</td>\n",
              "      <td id=\"T_b7ae5_row8_col5\" class=\"data row8 col5\" >-0.042934</td>\n",
              "      <td id=\"T_b7ae5_row8_col6\" class=\"data row8 col6\" >-0.024418</td>\n",
              "      <td id=\"T_b7ae5_row8_col7\" class=\"data row8 col7\" >-0.036980</td>\n",
              "      <td id=\"T_b7ae5_row8_col8\" class=\"data row8 col8\" >1.000000</td>\n",
              "      <td id=\"T_b7ae5_row8_col9\" class=\"data row8 col9\" >-0.009374</td>\n",
              "      <td id=\"T_b7ae5_row8_col10\" class=\"data row8 col10\" >0.060513</td>\n",
              "      <td id=\"T_b7ae5_row8_col11\" class=\"data row8 col11\" >0.000604</td>\n",
              "      <td id=\"T_b7ae5_row8_col12\" class=\"data row8 col12\" >0.018250</td>\n",
              "    </tr>\n",
              "    <tr>\n",
              "      <th id=\"T_b7ae5_level0_row9\" class=\"row_heading level0 row9\" >XSYMH</th>\n",
              "      <td id=\"T_b7ae5_row9_col0\" class=\"data row9 col0\" >0.038979</td>\n",
              "      <td id=\"T_b7ae5_row9_col1\" class=\"data row9 col1\" >-0.418114</td>\n",
              "      <td id=\"T_b7ae5_row9_col2\" class=\"data row9 col2\" >-0.428059</td>\n",
              "      <td id=\"T_b7ae5_row9_col3\" class=\"data row9 col3\" >0.079272</td>\n",
              "      <td id=\"T_b7ae5_row9_col4\" class=\"data row9 col4\" >-0.115144</td>\n",
              "      <td id=\"T_b7ae5_row9_col5\" class=\"data row9 col5\" >0.240893</td>\n",
              "      <td id=\"T_b7ae5_row9_col6\" class=\"data row9 col6\" >-0.248624</td>\n",
              "      <td id=\"T_b7ae5_row9_col7\" class=\"data row9 col7\" >-0.076450</td>\n",
              "      <td id=\"T_b7ae5_row9_col8\" class=\"data row9 col8\" >-0.009374</td>\n",
              "      <td id=\"T_b7ae5_row9_col9\" class=\"data row9 col9\" >1.000000</td>\n",
              "      <td id=\"T_b7ae5_row9_col10\" class=\"data row9 col10\" >-0.105987</td>\n",
              "      <td id=\"T_b7ae5_row9_col11\" class=\"data row9 col11\" >-0.001548</td>\n",
              "      <td id=\"T_b7ae5_row9_col12\" class=\"data row9 col12\" >-0.199587</td>\n",
              "    </tr>\n",
              "    <tr>\n",
              "      <th id=\"T_b7ae5_level0_row10\" class=\"row_heading level0 row10\" >XF107</th>\n",
              "      <td id=\"T_b7ae5_row10_col0\" class=\"data row10 col0\" >-0.001436</td>\n",
              "      <td id=\"T_b7ae5_row10_col1\" class=\"data row10 col1\" >0.088056</td>\n",
              "      <td id=\"T_b7ae5_row10_col2\" class=\"data row10 col2\" >0.136231</td>\n",
              "      <td id=\"T_b7ae5_row10_col3\" class=\"data row10 col3\" >-0.191630</td>\n",
              "      <td id=\"T_b7ae5_row10_col4\" class=\"data row10 col4\" >0.159644</td>\n",
              "      <td id=\"T_b7ae5_row10_col5\" class=\"data row10 col5\" >-0.015366</td>\n",
              "      <td id=\"T_b7ae5_row10_col6\" class=\"data row10 col6\" >0.140654</td>\n",
              "      <td id=\"T_b7ae5_row10_col7\" class=\"data row10 col7\" >0.009283</td>\n",
              "      <td id=\"T_b7ae5_row10_col8\" class=\"data row10 col8\" >0.060513</td>\n",
              "      <td id=\"T_b7ae5_row10_col9\" class=\"data row10 col9\" >-0.105987</td>\n",
              "      <td id=\"T_b7ae5_row10_col10\" class=\"data row10 col10\" >1.000000</td>\n",
              "      <td id=\"T_b7ae5_row10_col11\" class=\"data row10 col11\" >0.001740</td>\n",
              "      <td id=\"T_b7ae5_row10_col12\" class=\"data row10 col12\" >0.367725</td>\n",
              "    </tr>\n",
              "    <tr>\n",
              "      <th id=\"T_b7ae5_level0_row11\" class=\"row_heading level0 row11\" >XCOORD</th>\n",
              "      <td id=\"T_b7ae5_row11_col0\" class=\"data row11 col0\" >0.000190</td>\n",
              "      <td id=\"T_b7ae5_row11_col1\" class=\"data row11 col1\" >0.000865</td>\n",
              "      <td id=\"T_b7ae5_row11_col2\" class=\"data row11 col2\" >0.001767</td>\n",
              "      <td id=\"T_b7ae5_row11_col3\" class=\"data row11 col3\" >-0.002524</td>\n",
              "      <td id=\"T_b7ae5_row11_col4\" class=\"data row11 col4\" >0.002405</td>\n",
              "      <td id=\"T_b7ae5_row11_col5\" class=\"data row11 col5\" >0.001040</td>\n",
              "      <td id=\"T_b7ae5_row11_col6\" class=\"data row11 col6\" >-0.000906</td>\n",
              "      <td id=\"T_b7ae5_row11_col7\" class=\"data row11 col7\" >-0.001822</td>\n",
              "      <td id=\"T_b7ae5_row11_col8\" class=\"data row11 col8\" >0.000604</td>\n",
              "      <td id=\"T_b7ae5_row11_col9\" class=\"data row11 col9\" >-0.001548</td>\n",
              "      <td id=\"T_b7ae5_row11_col10\" class=\"data row11 col10\" >0.001740</td>\n",
              "      <td id=\"T_b7ae5_row11_col11\" class=\"data row11 col11\" >1.000000</td>\n",
              "      <td id=\"T_b7ae5_row11_col12\" class=\"data row11 col12\" >-0.039392</td>\n",
              "    </tr>\n",
              "    <tr>\n",
              "      <th id=\"T_b7ae5_level0_row12\" class=\"row_heading level0 row12\" >XDEN</th>\n",
              "      <td id=\"T_b7ae5_row12_col0\" class=\"data row12 col0\" >-0.003106</td>\n",
              "      <td id=\"T_b7ae5_row12_col1\" class=\"data row12 col1\" >0.197902</td>\n",
              "      <td id=\"T_b7ae5_row12_col2\" class=\"data row12 col2\" >0.239452</td>\n",
              "      <td id=\"T_b7ae5_row12_col3\" class=\"data row12 col3\" >0.004085</td>\n",
              "      <td id=\"T_b7ae5_row12_col4\" class=\"data row12 col4\" >0.022063</td>\n",
              "      <td id=\"T_b7ae5_row12_col5\" class=\"data row12 col5\" >-0.010781</td>\n",
              "      <td id=\"T_b7ae5_row12_col6\" class=\"data row12 col6\" >0.286016</td>\n",
              "      <td id=\"T_b7ae5_row12_col7\" class=\"data row12 col7\" >0.071535</td>\n",
              "      <td id=\"T_b7ae5_row12_col8\" class=\"data row12 col8\" >0.018250</td>\n",
              "      <td id=\"T_b7ae5_row12_col9\" class=\"data row12 col9\" >-0.199587</td>\n",
              "      <td id=\"T_b7ae5_row12_col10\" class=\"data row12 col10\" >0.367725</td>\n",
              "      <td id=\"T_b7ae5_row12_col11\" class=\"data row12 col11\" >-0.039392</td>\n",
              "      <td id=\"T_b7ae5_row12_col12\" class=\"data row12 col12\" >1.000000</td>\n",
              "    </tr>\n",
              "  </tbody>\n",
              "</table>\n"
            ]
          },
          "metadata": {},
          "execution_count": 16
        }
      ]
    },
    {
      "cell_type": "code",
      "source": [
        "# Let's see the possible best variables for modeling the carat\n",
        "sns.pairplot(df);"
      ],
      "metadata": {
        "id": "elCpNTHB0YPx"
      },
      "execution_count": null,
      "outputs": []
    },
    {
      "cell_type": "code",
      "source": [
        "df.shape"
      ],
      "metadata": {
        "id": "hirkK9p5qyx6"
      },
      "execution_count": null,
      "outputs": []
    },
    {
      "cell_type": "code",
      "source": [
        "df.describe()"
      ],
      "metadata": {
        "id": "Hxq2Sj8mPegA"
      },
      "execution_count": null,
      "outputs": []
    },
    {
      "cell_type": "code",
      "source": [
        "df['XDEN'].isnull().values.any()"
      ],
      "metadata": {
        "id": "7wu5diCGSoWn"
      },
      "execution_count": null,
      "outputs": []
    },
    {
      "cell_type": "code",
      "source": [
        "# Split dataset into input features and label\n",
        "X = dataset[:,0:12]   \n",
        "Y = dataset[:,12]"
      ],
      "metadata": {
        "id": "P4LEW8xwobLQ"
      },
      "execution_count": null,
      "outputs": []
    },
    {
      "cell_type": "code",
      "source": [
        "X_train, X_test, y_train, y_test = train_test_split(X, Y, test_size= 0.2, random_state=12)"
      ],
      "metadata": {
        "id": "qkYWKKvtsM_c"
      },
      "execution_count": null,
      "outputs": []
    },
    {
      "cell_type": "code",
      "source": [
        "print(f'Train: {X_train.shape, y_train.shape}  \\nTest: {X_test.shape, y_test.shape}')"
      ],
      "metadata": {
        "id": "LcH6ylBusYO6"
      },
      "execution_count": null,
      "outputs": []
    },
    {
      "cell_type": "code",
      "source": [
        "# Extract the descriptive statistics for the explanatory variables for IQR calculation\n",
        "df.describe()"
      ],
      "metadata": {
        "id": "W9N2wwyrsmUi"
      },
      "execution_count": null,
      "outputs": []
    },
    {
      "cell_type": "code",
      "source": [
        "df"
      ],
      "metadata": {
        "id": "LZOaP5J3wouu"
      },
      "execution_count": null,
      "outputs": []
    },
    {
      "cell_type": "code",
      "source": [
        "# setup figure\n",
        "#fig, ax = plt.subplots(1,3, figsize=(20,7))\n",
        "\n",
        "# plot\n",
        "g1 = sns.boxplot(y=X_train, color='green')\n",
        "g1.set_title('Boxplot of x_train')\n"
      ],
      "metadata": {
        "id": "_UiAQIKxtl9_"
      },
      "execution_count": null,
      "outputs": []
    },
    {
      "cell_type": "code",
      "source": [
        "# plot\n",
        "g1 = sns.boxplot(y=X_test, color='blue')\n",
        "g1.set_title('Boxplot of x_test')"
      ],
      "metadata": {
        "id": "FdqEPN_kSO_O"
      },
      "execution_count": null,
      "outputs": []
    },
    {
      "cell_type": "code",
      "source": [
        "# Log transformation\n",
        "X_log = np.log(X_train)\n",
        "y_log = np.log(y_train)"
      ],
      "metadata": {
        "id": "01VYCIcnvEBa"
      },
      "execution_count": null,
      "outputs": []
    },
    {
      "cell_type": "code",
      "source": [
        "dataset =df.values"
      ],
      "metadata": {
        "id": "6mgPDtZe8QKZ"
      },
      "execution_count": null,
      "outputs": []
    },
    {
      "cell_type": "code",
      "source": [
        "dataset"
      ],
      "metadata": {
        "id": "BWvkixerYzgZ"
      },
      "execution_count": null,
      "outputs": []
    },
    {
      "cell_type": "code",
      "execution_count": null,
      "metadata": {
        "id": "-0nMnJun7xTA"
      },
      "outputs": [],
      "source": [
        "# Convert string column to float\n",
        "def str_column_to_float(dataset, column):\n",
        "\tfor row in dataset:\n",
        "\t\trow[column] = float(row[column].strip())"
      ]
    },
    {
      "cell_type": "code",
      "execution_count": null,
      "metadata": {
        "id": "utjvzNz_74xf"
      },
      "outputs": [],
      "source": [
        "# Convert string column to integer\n",
        "def str_column_to_int(dataset, column):\n",
        "\tclass_values = [row[column] for row in dataset]\n",
        "\tunique = set(class_values)\n",
        "\tlookup = dict()\n",
        "\tfor i, value in enumerate(unique):\n",
        "\t\tlookup[value] = i\n",
        "\tfor row in dataset:\n",
        "\t\trow[column] = lookup[row[column]]\n",
        "\treturn lookup"
      ]
    },
    {
      "cell_type": "code",
      "execution_count": null,
      "metadata": {
        "id": "MsI8D2md78Bx"
      },
      "outputs": [],
      "source": [
        "# Find the min and max values for each column\n",
        "def dataset_minmax(dataset):\n",
        "\tminmax = list()\n",
        "\tfor i in range(len(dataset[0])):\n",
        "\t\tcol_values = [row[i] for row in dataset]\n",
        "\t\tvalue_min = min(col_values)\n",
        "\t\tvalue_max = max(col_values)\n",
        "\t\tminmax.append([value_min, value_max])\n",
        "\treturn minmax\n",
        " "
      ]
    },
    {
      "cell_type": "code",
      "execution_count": null,
      "metadata": {
        "id": "gDqfLv3O8F7w"
      },
      "outputs": [],
      "source": [
        "# Split a dataset into k folds\n",
        "def cross_validation_split(dataset, n_folds):\n",
        "\tdataset_split = list()\n",
        "\tdataset_copy = list(dataset)\n",
        "\tfold_size = int(len(dataset) / n_folds)\n",
        "\tfor _ in range(n_folds):\n",
        "\t\tfold = list()\n",
        "\t\twhile len(fold) < fold_size:\n",
        "\t\t\tindex = randrange(len(dataset_copy))\n",
        "\t\t\tfold.append(dataset_copy.pop(index))\n",
        "\t\tdataset_split.append(fold)\n",
        "\treturn dataset_split\n",
        " \n"
      ]
    },
    {
      "cell_type": "code",
      "execution_count": null,
      "metadata": {
        "id": "P7sGfOZg8VoW"
      },
      "outputs": [],
      "source": [
        "\n",
        "# Rescale dataset columns to the range 0-1\n",
        "def normalize_dataset(dataset, minmax):\n",
        "\tfor row in dataset:\n",
        "\t\tfor i in range(len(row)):\n",
        "\t\t\trow[i] = (row[i] - minmax[i][0]) / (minmax[i][1] - minmax[i][0])"
      ]
    },
    {
      "cell_type": "markdown",
      "metadata": {
        "id": "qDrV6vJm2LO6"
      },
      "source": [
        "## Calculate Euclidean Distance"
      ]
    },
    {
      "cell_type": "code",
      "execution_count": null,
      "metadata": {
        "id": "OepyJlMz2K2O"
      },
      "outputs": [],
      "source": [
        "def euclidean_distance(row1, row2):\n",
        "\tdistance = 0.0\n",
        "\tfor i in range(len(row1)-1):\n",
        "\t\tdistance += (row1[i] - row2[i])**2\n",
        "\treturn sqrt(distance)"
      ]
    },
    {
      "cell_type": "code",
      "execution_count": null,
      "metadata": {
        "id": "SS6z0oxI24OE"
      },
      "outputs": [],
      "source": [
        "row0 = dataset[0]\n",
        "for row in dataset:\n",
        "\tdistance = euclidean_distance(row0, row)\n",
        "\t#print(distance)"
      ]
    },
    {
      "cell_type": "markdown",
      "metadata": {
        "id": "SrLKONJP26rM"
      },
      "source": [
        "## Get Nearest Neighbours"
      ]
    },
    {
      "cell_type": "code",
      "execution_count": null,
      "metadata": {
        "id": "kKh4Ajwc26EM"
      },
      "outputs": [],
      "source": [
        "# Locate the most similar neighbors\n",
        "def get_neighbors(train, test_row, num_neighbors):\n",
        "\tdistances = list()\n",
        "\tfor train_row in train:\n",
        "\t\tdist = euclidean_distance(test_row, train_row)\n",
        "\t\tdistances.append((train_row, dist))\n",
        "\tdistances.sort(key=lambda tup: tup[1])\n",
        "\tneighbors = list()\n",
        "\tfor i in range(num_neighbors):\n",
        "\t\tneighbors.append(distances[i][0])\n",
        "\treturn neighbors"
      ]
    },
    {
      "cell_type": "markdown",
      "metadata": {
        "id": "GhfpMvsO52lK"
      },
      "source": [
        "## Test Distance function"
      ]
    },
    {
      "cell_type": "code",
      "execution_count": null,
      "metadata": {
        "id": "OPdu5aAz54fy"
      },
      "outputs": [],
      "source": [
        "neighbors = get_neighbors(dataset, dataset[0], 13)\n",
        "count = 0\n",
        "for neighbor in neighbors:\n",
        "\tcount+=1\n",
        "\tprint(neighbor)\n",
        "print(count)"
      ]
    },
    {
      "cell_type": "code",
      "execution_count": null,
      "metadata": {
        "id": "G-KimE3k8LvW"
      },
      "outputs": [],
      "source": [
        "# Calculate accuracy percentage\n",
        "def accuracy_metric(actual, predicted):\n",
        "\tcorrect = 0\n",
        "\tfor i in range(len(actual)):\n",
        "\t\tif actual[i] == predicted[i]:\n",
        "\t\t\tcorrect += 1\n",
        "\treturn correct / float(len(actual)) * 100.0\n",
        " \n"
      ]
    },
    {
      "cell_type": "code",
      "execution_count": null,
      "metadata": {
        "id": "G4RKx6BZ2azI"
      },
      "outputs": [],
      "source": [
        "# Split a dataset into k folds\n",
        "def cross_validation_split(dataset, n_folds):\n",
        "\tdataset_split = list()\n",
        "\tdataset_copy = list(dataset)\n",
        "\tfold_size = int(len(dataset) / n_folds)\n",
        "\tfor _ in range(n_folds):\n",
        "\t\tfold = list()\n",
        "\t\twhile len(fold) < fold_size:\n",
        "\t\t\tindex = randrange(len(dataset_copy))\n",
        "\t\t\tfold.append(dataset_copy.pop(index))\n",
        "\t\tdataset_split.append(fold)\n",
        "\treturn dataset_split"
      ]
    },
    {
      "cell_type": "code",
      "execution_count": null,
      "metadata": {
        "id": "kHhq6wNfrKfZ"
      },
      "outputs": [],
      "source": [
        "# Evaluate an algorithm using a cross validation split\n",
        "def evaluate_algorithm(dataset, algorithm, n_folds, *args):\n",
        "\tfolds = cross_validation_split(dataset, n_folds)\n",
        "\tscores = list()\n",
        "\tfor fold in folds:\n",
        "\t\ttrain_set = list(folds)\n",
        "\t\ttrain_set.remove(fold)\n",
        "\t\ttrain_set = sum(train_set, [])\n",
        "\t\ttest_set = list()\n",
        "\t\tfor row in fold:\n",
        "\t\t\trow_copy = list(row)\n",
        "\t\t\ttest_set.append(row_copy)\n",
        "\t\t\trow_copy[-1] = None\n",
        "\t\tpredicted = algorithm(train_set, test_set, *args)\n",
        "\t\tactual = [row[-1] for row in fold]\n",
        "\t\taccuracy = accuracy_metric(actual, predicted)\n",
        "\t\tscores.append(accuracy)\n",
        "\treturn scores"
      ]
    },
    {
      "cell_type": "code",
      "execution_count": null,
      "metadata": {
        "id": "paKqq-Zr8pDx"
      },
      "outputs": [],
      "source": [
        "# kNN Algorithm\n",
        "def k_nearest_neighbors(X_train, X_test, num_neighbors):\n",
        "\tpredictions = list()\n",
        "\tfor row in X_test:\n",
        "\t\toutput = predict_classification(X_train, row, num_neighbors)\n",
        "\t\tpredictions.append(output)\n",
        "\treturn(predictions)"
      ]
    },
    {
      "cell_type": "markdown",
      "metadata": {
        "id": "ERtVKuGR6NWg"
      },
      "source": [
        "## Make Prediction"
      ]
    },
    {
      "cell_type": "code",
      "execution_count": null,
      "metadata": {
        "id": "HqOUBVnJ6PUF"
      },
      "outputs": [],
      "source": [
        "# Make a classification prediction with neighbors\n",
        "def predict_classification(X_train, test_row, num_neighbors):\n",
        "\tneighbors = get_neighbors(X_train, test_row, num_neighbors)\n",
        "\toutput_values = [row[-1] for row in neighbors]\n",
        "\tprediction = max(set(output_values), key=output_values.count)\n",
        "\treturn prediction"
      ]
    },
    {
      "cell_type": "code",
      "execution_count": null,
      "metadata": {
        "id": "JkN7_H0Z6UFM"
      },
      "outputs": [],
      "source": [
        "prediction = predict_classification(dataset, dataset[0], 13)\n",
        "print('Expected %d, Got %d.' % (dataset[0][-2]*(-100), prediction*100))\n"
      ]
    },
    {
      "cell_type": "code",
      "execution_count": null,
      "metadata": {
        "id": "72Eoaksv2Ex9"
      },
      "outputs": [],
      "source": [
        "# evaluate algorithm\n",
        "n_folds = 2000\n",
        "num_neighbors = 13\n",
        "scores = evaluate_algorithm(dataset, k_nearest_neighbors, n_folds, num_neighbors)\n",
        "print('Scores: %s' % scores)\n",
        "print('Mean Accuracy: %.3f%%' % (sum(scores)/float(len(scores))))"
      ]
    }
  ],
  "metadata": {
    "colab": {
      "provenance": [],
      "authorship_tag": "ABX9TyMGpWki9m7aHbJ789WXoEAU",
      "include_colab_link": true
    },
    "kernelspec": {
      "display_name": "Python 3",
      "name": "python3"
    },
    "language_info": {
      "name": "python"
    },
    "gpuClass": "standard"
  },
  "nbformat": 4,
  "nbformat_minor": 0
}